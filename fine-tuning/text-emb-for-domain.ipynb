{
 "cells": [
  {
   "cell_type": "markdown",
   "id": "95a782ce",
   "metadata": {},
   "source": [
    "# Semantic search for job postings\n",
    "---\n",
    "\n",
    "**Use case:**\n",
    "- a user gives a query with his main skills, and gets Linkedin job listings matching these skills. Simple general similarity here might not be the best option, cause queries greatly differ from job posting.\n",
    "\n",
    "**The task:**\n",
    "- Fine-tune an embedding model to optmize semantic job search\n",
    "\n",
    "**Example:**\n",
    "- input: \"data scientis 6 years expierience, LLMs, credit risk, content marketing\" \n",
    "- output: job posting for position \"Technical curriculum developer III, AI/ML, Cloud Learning\"\n"
   ]
  },
  {
   "cell_type": "markdown",
   "id": "bdea8bc0",
   "metadata": {},
   "source": [
    "<style>\n",
    "body {\n",
    "    background-color: #f5f5f5;\n",
    "}\n",
    "</style>\n",
    "\n",
    "> **Fine-tuning text embeddings for specific user case**\n",
    ">\n",
    "> A bit on embeddings and fine-tuning:\n",
    "> - The purpose is to fine-tune general text embeddings (to improve semantic search) for specific domain or use case.\n",
    "> - Fine-tuning is adapting a model to specific use case with additonal training.\n",
    "> - Text embedding - semantically meaningful vector.\n",
    "> - Using base model embeddings, we retrieve most similar chunks, but the most similar chunk is not always what we are looking for.\n",
    "> - Fine-tuned model can be further fine-tuned to add specific behaviour.\n",
    ">\n",
    "> Method:\n",
    "> - **Contrastive Learning** (CL) in embeddings is a machine learning technique used to train models to create a representation space (embedding space) where similar data points are mapped close to each other, and dissimilar data points are pushed farther apart.\n",
    "> - The core idea of contrastive learning revolves around the construction and use of sample pairs:\n",
    ">     - Anchor Sample (x): The original data point.\n",
    ">     - Positive Pair (x+): A data point that is semantically similar or related to the anchor.\n",
    ">     - Negative Pairs (x−): Data points that are semantically dissimilar or unrelated to the anchor.\n",
    "> - The training objective: the model (an encoder network) is trained using a contrastive loss function (like InfoNCE or Triplet Loss) that optimizes the distances between the embeddings of these pairs:\n",
    ">     - Pull Positives Closer: The loss function penalizes the model when the embedding distance between the Anchor and the Positive Pair is large (or their similarity is low). This forces similar data into tight clusters in the embedding space.\n",
    ">     - Push Negatives Apart: The loss function penalizes the model when the embedding distance between the Anchor and a Negative Pair is small (or their similarity is high). This separates dissimilar data, ensuring the embeddings are highly discriminative.\n",
    ">\n",
    "> By minimizing this loss, the model learns meaningful vector representations (embeddings) that effectively capture the inherent similarity and dissimilarity relationships within the data."
   ]
  },
  {
   "cell_type": "markdown",
   "id": "2ea54a27",
   "metadata": {},
   "source": [
    "### 1. Data"
   ]
  },
  {
   "cell_type": "code",
   "execution_count": null,
   "id": "8a65a09d",
   "metadata": {},
   "outputs": [
    {
     "ename": "",
     "evalue": "",
     "output_type": "error",
     "traceback": [
      "\u001b[1;31mRunning cells with '.venv (Python 3.13.5)' requires the ipykernel package.\n",
      "\u001b[1;31mInstall 'ipykernel' into the Python environment. \n",
      "\u001b[1;31mCommand: '/home/indre/projects/playground/.venv/bin/python -m pip install ipykernel -U --force-reinstall'"
     ]
    }
   ],
   "source": [
    "# Dependnecies"
   ]
  },
  {
   "cell_type": "markdown",
   "id": "47113b38",
   "metadata": {},
   "source": [
    "---\n",
    "[Reference link](https://www.youtube.com/watch?v=hOLBrIjRAj4 \"Fine-Tuning Text Embeddings For Domain-specific Search (w/ Python)\")"
   ]
  }
 ],
 "metadata": {
  "kernelspec": {
   "display_name": ".venv",
   "language": "python",
   "name": "python3"
  },
  "language_info": {
   "name": "python",
   "version": "3.13.5"
  }
 },
 "nbformat": 4,
 "nbformat_minor": 5
}
